{
  "nbformat": 4,
  "nbformat_minor": 0,
  "metadata": {
    "colab": {
      "provenance": []
    },
    "kernelspec": {
      "name": "python3",
      "display_name": "Python 3"
    },
    "language_info": {
      "name": "python"
    }
  },
  "cells": [
    {
      "cell_type": "code",
      "source": [
        "pip install PyMuPDF"
      ],
      "metadata": {
        "colab": {
          "base_uri": "https://localhost:8080/"
        },
        "id": "UZnaOYAy_Ypu",
        "outputId": "938e47d6-5005-408d-b8c8-387436c4a7fc"
      },
      "execution_count": null,
      "outputs": [
        {
          "output_type": "stream",
          "name": "stdout",
          "text": [
            "Looking in indexes: https://pypi.org/simple, https://us-python.pkg.dev/colab-wheels/public/simple/\n",
            "Collecting PyMuPDF\n",
            "  Downloading PyMuPDF-1.22.3-cp310-cp310-manylinux_2_17_x86_64.manylinux2014_x86_64.whl (14.1 MB)\n",
            "\u001b[2K     \u001b[90m━━━━━━━━━━━━━━━━━━━━━━━━━━━━━━━━━━━━━━━━\u001b[0m \u001b[32m14.1/14.1 MB\u001b[0m \u001b[31m61.2 MB/s\u001b[0m eta \u001b[36m0:00:00\u001b[0m\n",
            "\u001b[?25hInstalling collected packages: PyMuPDF\n",
            "Successfully installed PyMuPDF-1.22.3\n"
          ]
        }
      ]
    },
    {
      "cell_type": "code",
      "source": [
        "import fitz\n",
        "import cv2\n",
        "import numpy as np\n",
        "import matplotlib.pyplot as plt\n",
        "\n",
        "def identify_stamps(image):\n",
        "    gray_image = cv2.cvtColor(image, cv2.COLOR_BGR2GRAY)\n",
        "    _, threshold_image = cv2.threshold(gray_image, 0, 50, cv2.THRESH_BINARY_INV + cv2.THRESH_OTSU)\n",
        "\n",
        "    contours, _ = cv2.findContours(threshold_image, cv2.RETR_EXTERNAL, cv2.CHAIN_APPROX_SIMPLE)\n",
        "\n",
        "    potential_stamps = []\n",
        "    for contour in contours:\n",
        "        area = cv2.contourArea(contour)\n",
        "\n",
        "        if area > 600:\n",
        "            x, y, w, h = cv2.boundingRect(contour)\n",
        "            potential_stamps.append((x, y, w, h))\n",
        "\n",
        "    return potential_stamps\n",
        "\n",
        "def identify_stamps_in_pdf(pdf_path):\n",
        "\n",
        "    doc = fitz.open(pdf_path)\n",
        "\n",
        "    for page_num in range(len(doc)):\n",
        "        page = doc.load_page(page_num)\n",
        "        pix = page.get_pixmap()\n",
        "\n",
        "        img_np = np.frombuffer(pix.samples, dtype=np.uint8).reshape((pix.height, pix.width, pix.n))\n",
        "        potential_stamps = identify_stamps(img_np)\n",
        "\n",
        "        for (x, y, w, h) in potential_stamps:\n",
        "            cv2.rectangle(img_np, (x, y), (x + w, y + h), (0, 500, 0), 2)\n",
        "\n",
        "        plt.imshow(cv2.cvtColor(img_np, cv2.COLOR_BGR2RGB))\n",
        "        plt.axis('off')\n",
        "        plt.show()\n",
        "\n",
        "\n",
        "pdf_path = '/content/625-611_PIN for translation .pdf'\n",
        "identify_stamps_in_pdf(pdf_path)\n"
      ],
      "metadata": {
        "id": "cCjXldpEW7_m"
      },
      "execution_count": null,
      "outputs": []
    }
  ]
}